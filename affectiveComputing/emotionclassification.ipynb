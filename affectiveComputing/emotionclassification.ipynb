{
 "cells": [
  {
   "cell_type": "code",
   "execution_count": 39,
   "metadata": {
    "collapsed": false
   },
   "outputs": [
    {
     "name": "stderr",
     "output_type": "stream",
     "text": [
      "/Users/xueguoliang/anaconda/envs/tensorflow3/lib/python3.5/site-packages/IPython/html.py:14: ShimWarning: The `IPython.html` package has been deprecated. You should import from `notebook` instead. `IPython.html.widgets` has moved to `ipywidgets`.\n",
      "  \"`IPython.html.widgets` has moved to `ipywidgets`.\", ShimWarning)\n"
     ]
    }
   ],
   "source": [
    "# These are all the modules we'll be using later. Make sure you can import them\n",
    "# before proceeding further.\n",
    "import numpy as np\n",
    "import os\n",
    "import cv2  \n",
    "from tqdm import tqdm\n",
    "from random import shuffle\n",
    "from collections import Counter\n",
    "\n",
    "import matplotlib.pyplot as plt\n",
    "import seaborn as sns\n",
    "sns.set_style(\"darkgrid\")\n",
    "\n",
    "import tflearn\n",
    "from tflearn.layers.conv import conv_2d, max_pool_2d\n",
    "from tflearn.layers.core import input_data, dropout, fully_connected\n",
    "from tflearn.layers.estimator import regression\n",
    "from tflearn.layers.normalization import local_response_normalization"
   ]
  },
  {
   "cell_type": "code",
   "execution_count": 3,
   "metadata": {
    "collapsed": false
   },
   "outputs": [],
   "source": [
    "# hyperparameter\n",
    "IMG_SIZE = 48\n",
    "LR = 1e-3\n",
    "\n",
    "def getData(balance_ones=True):\n",
    "    # images are 48*48 size vectors\n",
    "    Y_train = []\n",
    "    X_train = []\n",
    "    \n",
    "    Y_test = []\n",
    "    X_test = []\n",
    "    \n",
    "    first = True\n",
    "   \n",
    "    #init length of one-hot vector\n",
    "    n_labels = 7\n",
    "    \n",
    "    for line in open('fer2013/fer2013.csv'):\n",
    "        if first:\n",
    "            first = False\n",
    "        else:\n",
    "            row = line.split(',')\n",
    "            if row[2].strip()==\"Training\":\n",
    "                tmp = np.zeros(n_labels)\n",
    "                tmp[int(row[0])] = 1\n",
    "                Y_train.append(tmp)\n",
    "                X_train.append([int(p) for p in row[1].split()])\n",
    "            elif row[2].strip()==\"PublicTest\":\n",
    "                tmp = np.zeros(n_labels)\n",
    "                tmp[int(row[0])] = 1\n",
    "                Y_test.append(tmp)\n",
    "                X_test.append([int(p) for p in row[1].split()])\n",
    "                            \n",
    "    X_train, Y_train = np.array(X_train), np.array(Y_train)\n",
    "    X_test, Y_test = np.array(X_test), np.array(Y_test)\n",
    "    \n",
    "        \n",
    "    return X_train, Y_train, X_test, Y_test\n",
    "\n",
    "X_train, Y_train, X_test, Y_test = getData()\n",
    "\n",
    "X_train = np.array([i for i in X_train]).reshape(-1,IMG_SIZE,IMG_SIZE,1)\n",
    "Y_train = [i for i in Y_train]\n",
    "\n",
    "X_test = np.array([i for i in X_test]).reshape(-1,IMG_SIZE,IMG_SIZE,1)\n",
    "Y_test = [i for i in Y_test]"
   ]
  },
  {
   "cell_type": "markdown",
   "metadata": {},
   "source": [
    "## Training"
   ]
  },
  {
   "cell_type": "code",
   "execution_count": 4,
   "metadata": {
    "collapsed": true
   },
   "outputs": [],
   "source": [
    "import tensorflow as tf\n",
    "tf.reset_default_graph()"
   ]
  },
  {
   "cell_type": "code",
   "execution_count": 5,
   "metadata": {
    "collapsed": false
   },
   "outputs": [
    {
     "name": "stdout",
     "output_type": "stream",
     "text": [
      "Training Step: 6734  | total loss: \u001b[1m\u001b[32m1.25695\u001b[0m\u001b[0m | time: 682.079s\n",
      "| Momentum | epoch: 015 | loss: 1.25695 - acc: 0.5311 -- iter: 28672/28709\n",
      "Training Step: 6735  | total loss: \u001b[1m\u001b[32m1.25064\u001b[0m\u001b[0m | time: 700.362s\n",
      "| Momentum | epoch: 015 | loss: 1.25064 - acc: 0.5420 | val_loss: 1.42881 - val_acc: 0.4659 -- iter: 28709/28709\n",
      "--\n"
     ]
    }
   ],
   "source": [
    "# try alexnet\n",
    "network = input_data(shape=[None, IMG_SIZE, IMG_SIZE, 1], name='input')\n",
    "\n",
    "network = conv_2d(network, 96, 11, strides=4, activation='relu')\n",
    "network = max_pool_2d(network, 3, strides=2)\n",
    "network = local_response_normalization(network)\n",
    "network = conv_2d(network, 256, 5, activation='relu')\n",
    "network = max_pool_2d(network, 3, strides=2)\n",
    "network = local_response_normalization(network)\n",
    "network = conv_2d(network, 384, 3, activation='relu')\n",
    "network = conv_2d(network, 384, 3, activation='relu')\n",
    "network = conv_2d(network, 256, 3, activation='relu')\n",
    "network = max_pool_2d(network, 3, strides=2)\n",
    "network = local_response_normalization(network)\n",
    "network = fully_connected(network, 4096, activation='tanh')\n",
    "network = dropout(network, 0.5)\n",
    "network = fully_connected(network, 4096, activation='tanh')\n",
    "network = dropout(network, 0.5)\n",
    "network = fully_connected(network, 7, activation='softmax')\n",
    "network = regression(network, optimizer='momentum',loss='categorical_crossentropy',learning_rate=LR, name='targets')\n",
    "\n",
    "model = tflearn.DNN(network, tensorboard_dir='alex_bird')\n",
    "\n",
    "X_train = np.array([i for i in X_train]).reshape(-1,IMG_SIZE,IMG_SIZE,1)\n",
    "Y_train = [i for i in Y_train]\n",
    "\n",
    "X_test = np.array([i for i in X_test]).reshape(-1,IMG_SIZE,IMG_SIZE,1)\n",
    "Y_test = [i for i in Y_test]\n",
    "\n",
    "MODEL_NAME = 'affective-bird-{}-{}.model'.format(LR, 'alexnet_15')\n",
    "\n",
    "model.fit({'input': X_train}, {'targets': Y_train}, n_epoch=15, shuffle=True, batch_size=64,\n",
    "          validation_set=({'input': X_test}, {'targets': Y_test}), \n",
    "          snapshot_step=500, show_metric=True, run_id=MODEL_NAME)"
   ]
  },
  {
   "cell_type": "code",
   "execution_count": 6,
   "metadata": {
    "collapsed": false
   },
   "outputs": [
    {
     "name": "stdout",
     "output_type": "stream",
     "text": [
      "INFO:tensorflow:/Users/xueguoliang/myGithub/affectiveComputing/affective-bird-0.001-alexnet_15.model is not in all_model_checkpoint_paths. Manually adding it.\n"
     ]
    }
   ],
   "source": [
    "model.save(MODEL_NAME)"
   ]
  },
  {
   "cell_type": "code",
   "execution_count": 9,
   "metadata": {
    "collapsed": true
   },
   "outputs": [],
   "source": [
    "# get all the information in the tensorflow board\n",
    "# the command line you need to type in in the terminal\n",
    "#python3 -m tensorflow.tensorboard --logdir=/Users/xueguoliang/myGithub/affectiveComputing/alex_bird"
   ]
  },
  {
   "cell_type": "code",
   "execution_count": 32,
   "metadata": {
    "collapsed": false
   },
   "outputs": [],
   "source": [
    "def process_pred_data():\n",
    "    # convert imgs to array\n",
    "    dirname = \"/Users/xueguoliang/myGithub/affectiveComputing/converted\"\n",
    "    # Load every image file in the provided directory\n",
    "    filenames = [os.path.join(dirname, fname)\n",
    "                 for fname in os.listdir(dirname) if fname.split(\".\")[1] == 'jpg']\n",
    "    \n",
    "    # Read every filename as an RGB image\n",
    "    imgs = [cv2.imread(fname,cv2.IMREAD_GRAYSCALE)for fname in filenames]\n",
    "    # Then resize the square image to 48 x 48 pixels\n",
    "    imgs = [cv2.resize(img_i, (48, 48)) for img_i in imgs]\n",
    "    # Finally make our list of 3-D images a 4-D array with the first dimension the number of images:\n",
    "    imgs = np.array(imgs).astype(np.float32)    \n",
    "    np.save('pred_data.npy', imgs)\n",
    "    \n",
    "process_pred_data()"
   ]
  },
  {
   "cell_type": "code",
   "execution_count": 33,
   "metadata": {
    "collapsed": false
   },
   "outputs": [],
   "source": [
    "pred_data = np.load('pred_data.npy')"
   ]
  },
  {
   "cell_type": "markdown",
   "metadata": {},
   "source": [
    "## Prediction"
   ]
  },
  {
   "cell_type": "code",
   "execution_count": 18,
   "metadata": {
    "collapsed": false
   },
   "outputs": [],
   "source": [
    "MODEL = None\n",
    "\n",
    "with tf.Graph().as_default():\n",
    "    network = input_data(shape=[None, IMG_SIZE, IMG_SIZE, 1], name='input')\n",
    "\n",
    "    network = conv_2d(network, 96, 11, strides=4, activation='relu')\n",
    "    network = max_pool_2d(network, 3, strides=2)\n",
    "    network = local_response_normalization(network)\n",
    "    network = conv_2d(network, 256, 5, activation='relu')\n",
    "    network = max_pool_2d(network, 3, strides=2)\n",
    "    network = local_response_normalization(network)\n",
    "    network = conv_2d(network, 384, 3, activation='relu')\n",
    "    network = conv_2d(network, 384, 3, activation='relu')\n",
    "    network = conv_2d(network, 256, 3, activation='relu')\n",
    "    network = max_pool_2d(network, 3, strides=2)\n",
    "    network = local_response_normalization(network)\n",
    "    network = fully_connected(network, 4096, activation='tanh')\n",
    "    network = dropout(network, 0.5)\n",
    "    network = fully_connected(network, 4096, activation='tanh')\n",
    "    network = dropout(network, 0.5)\n",
    "    network = fully_connected(network, 7, activation='softmax')\n",
    "    network = regression(network, optimizer='momentum',loss='categorical_crossentropy',learning_rate=LR, name='targets')\n",
    "\n",
    "    model = tflearn.DNN(network, tensorboard_dir='alex_bird')\n",
    "   \n",
    "    model.load(\"affective-bird-0.001-alexnet_15.model\")\n",
    "    MODEL = model"
   ]
  },
  {
   "cell_type": "code",
   "execution_count": 29,
   "metadata": {
    "collapsed": true
   },
   "outputs": [],
   "source": [
    "def predict(x):\n",
    "    predict_y = MODEL.predict(x)\n",
    "    new_y = np.argmax(predict_y, axis=1)\n",
    "    return new_y.astype(np.uint8)"
   ]
  },
  {
   "cell_type": "code",
   "execution_count": 34,
   "metadata": {
    "collapsed": false
   },
   "outputs": [],
   "source": [
    "result = predict(pred_data.reshape(-1,IMG_SIZE,IMG_SIZE,1))"
   ]
  },
  {
   "cell_type": "code",
   "execution_count": 49,
   "metadata": {
    "collapsed": false
   },
   "outputs": [
    {
     "name": "stdout",
     "output_type": "stream",
     "text": [
      "[0 3 4 ..., 4 6 4]\n"
     ]
    }
   ],
   "source": [
    "print (result)"
   ]
  },
  {
   "cell_type": "code",
   "execution_count": 71,
   "metadata": {
    "collapsed": false
   },
   "outputs": [],
   "source": [
    "sample = []\n",
    "i=0\n",
    "while(i<=len(result)):\n",
    "    sample.append(int(result[i]))\n",
    "    i = i+50"
   ]
  },
  {
   "cell_type": "code",
   "execution_count": 99,
   "metadata": {
    "collapsed": false
   },
   "outputs": [
    {
     "data": {
      "image/png": "[encoded data removed]",
      "text/plain": [
       "<matplotlib.figure.Figure at 0x128fdbb38>"
      ]
     },
     "metadata": {},
     "output_type": "display_data"
    }
   ],
   "source": [
    "x = range(0,len(sample))\n",
    "fig, ax = plt.subplots(figsize=(15,8))\n",
    "plt.scatter(x,sample,color=\"r\",s=50,alpha=.4)\n",
    "ax.set_xlim(-1,400)\n",
    "ax.set_ylim(-1,7)\n",
    "ax.set_yticklabels([\"\",\"Angry\", \"Disgust\", \"Fear\", \"Happy\", \"Sad\", \"Surprise\", \"Neutral\"])\n",
    "plt.title(\"Emotional Fluctuation\")\n",
    "plt.show()"
   ]
  },
  {
   "cell_type": "code",
   "execution_count": 75,
   "metadata": {
    "collapsed": false
   },
   "outputs": [
    {
     "ename": "TypeError",
     "evalue": "only integer scalar arrays can be converted to a scalar index",
     "output_type": "error",
     "traceback": [
      "\u001b[0;31m---------------------------------------------------------------------------\u001b[0m",
      "\u001b[0;31mTypeError\u001b[0m                                 Traceback (most recent call last)",
      "\u001b[0;32m<ipython-input-75-60ddc692ff21>\u001b[0m in \u001b[0;36m<module>\u001b[0;34m()\u001b[0m\n\u001b[0;32m----> 1\u001b[0;31m \u001b[0msns\u001b[0m\u001b[0;34m.\u001b[0m\u001b[0mjointplot\u001b[0m\u001b[0;34m(\u001b[0m\u001b[0mx\u001b[0m\u001b[0;34m,\u001b[0m\u001b[0msample\u001b[0m\u001b[0;34m)\u001b[0m\u001b[0;34m\u001b[0m\u001b[0m\n\u001b[0m",
      "\u001b[0;32m/Users/xueguoliang/anaconda/envs/tensorflow3/lib/python3.5/site-packages/seaborn/distributions.py\u001b[0m in \u001b[0;36mjointplot\u001b[0;34m(x, y, data, kind, stat_func, color, size, ratio, space, dropna, xlim, ylim, joint_kws, marginal_kws, annot_kws, **kwargs)\u001b[0m\n\u001b[1;32m    796\u001b[0m     grid = JointGrid(x, y, data, dropna=dropna,\n\u001b[1;32m    797\u001b[0m                      \u001b[0msize\u001b[0m\u001b[0;34m=\u001b[0m\u001b[0msize\u001b[0m\u001b[0;34m,\u001b[0m \u001b[0mratio\u001b[0m\u001b[0;34m=\u001b[0m\u001b[0mratio\u001b[0m\u001b[0;34m,\u001b[0m \u001b[0mspace\u001b[0m\u001b[0;34m=\u001b[0m\u001b[0mspace\u001b[0m\u001b[0;34m,\u001b[0m\u001b[0;34m\u001b[0m\u001b[0m\n\u001b[0;32m--> 798\u001b[0;31m                      xlim=xlim, ylim=ylim)\n\u001b[0m\u001b[1;32m    799\u001b[0m \u001b[0;34m\u001b[0m\u001b[0m\n\u001b[1;32m    800\u001b[0m     \u001b[0;31m# Plot the data using the grid\u001b[0m\u001b[0;34m\u001b[0m\u001b[0;34m\u001b[0m\u001b[0m\n",
      "\u001b[0;32m/Users/xueguoliang/anaconda/envs/tensorflow3/lib/python3.5/site-packages/seaborn/axisgrid.py\u001b[0m in \u001b[0;36m__init__\u001b[0;34m(self, x, y, data, size, ratio, space, dropna, xlim, ylim)\u001b[0m\n\u001b[1;32m   1658\u001b[0m         \u001b[0;32mif\u001b[0m \u001b[0mdropna\u001b[0m\u001b[0;34m:\u001b[0m\u001b[0;34m\u001b[0m\u001b[0m\n\u001b[1;32m   1659\u001b[0m             \u001b[0mnot_na\u001b[0m \u001b[0;34m=\u001b[0m \u001b[0mpd\u001b[0m\u001b[0;34m.\u001b[0m\u001b[0mnotnull\u001b[0m\u001b[0;34m(\u001b[0m\u001b[0mx\u001b[0m\u001b[0;34m)\u001b[0m \u001b[0;34m&\u001b[0m \u001b[0mpd\u001b[0m\u001b[0;34m.\u001b[0m\u001b[0mnotnull\u001b[0m\u001b[0;34m(\u001b[0m\u001b[0my\u001b[0m\u001b[0;34m)\u001b[0m\u001b[0;34m\u001b[0m\u001b[0m\n\u001b[0;32m-> 1660\u001b[0;31m             \u001b[0mx\u001b[0m \u001b[0;34m=\u001b[0m \u001b[0mx\u001b[0m\u001b[0;34m[\u001b[0m\u001b[0mnot_na\u001b[0m\u001b[0;34m]\u001b[0m\u001b[0;34m\u001b[0m\u001b[0m\n\u001b[0m\u001b[1;32m   1661\u001b[0m             \u001b[0my\u001b[0m \u001b[0;34m=\u001b[0m \u001b[0my\u001b[0m\u001b[0;34m[\u001b[0m\u001b[0mnot_na\u001b[0m\u001b[0;34m]\u001b[0m\u001b[0;34m\u001b[0m\u001b[0m\n\u001b[1;32m   1662\u001b[0m \u001b[0;34m\u001b[0m\u001b[0m\n",
      "\u001b[0;31mTypeError\u001b[0m: only integer scalar arrays can be converted to a scalar index"
     ]
    }
   ],
   "source": [
    "sns.jointplot(x,sample)"
   ]
  },
  {
   "cell_type": "code",
   "execution_count": 41,
   "metadata": {
    "collapsed": false,
    "scrolled": false
   },
   "outputs": [],
   "source": [
    "liter = [\"Angry\", \"Disgust\", \"Fear\", \"Happy\", \"Sad\", \"Surprise\", \"Neutral\"]\n",
    "final_result = [liter[i] for i in result]"
   ]
  },
  {
   "cell_type": "code",
   "execution_count": 40,
   "metadata": {
    "collapsed": false
   },
   "outputs": [
    {
     "data": {
      "image/png": "[encoded data removed]",
      "text/plain": [
       "<matplotlib.figure.Figure at 0x11850f358>"
      ]
     },
     "metadata": {},
     "output_type": "display_data"
    }
   ],
   "source": [
    "es = []\n",
    "fs = []\n",
    "rs = Counter(final_result)\n",
    "for v in rs:\n",
    "    es.append(v)\n",
    "    fs.append(rs[v])\n",
    "\n",
    "sns.barplot(es, fs)\n",
    "plt.show()"
   ]
  }
 ],
 "metadata": {
  "kernelspec": {
   "display_name": "Python 3",
   "language": "python",
   "name": "python3"
  },
  "language_info": {
   "codemirror_mode": {
    "name": "ipython",
    "version": 3
   },
   "file_extension": ".py",
   "mimetype": "text/x-python",
   "name": "python",
   "nbconvert_exporter": "python",
   "pygments_lexer": "ipython3",
   "version": "3.5.2"
  }
 },
 "nbformat": 4,
 "nbformat_minor": 2
}
