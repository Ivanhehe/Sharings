{
 "cells": [
  {
   "cell_type": "code",
   "execution_count": 1,
   "metadata": {
    "collapsed": false
   },
   "outputs": [],
   "source": [
    "%matplotlib inline\n",
    "import matplotlib.pyplot as plt\n",
    "import tensorflow as tf\n",
    "import numpy as np\n",
    "from sklearn.metrics import confusion_matrix\n",
    "import time\n",
    "from datetime import timedelta\n",
    "import math\n",
    "from tqdm import tqdm\n",
    "from sklearn.utils import shuffle \n",
    "import cv2\n",
    "import os\n",
    "import glob\n",
    "import operator"
   ]
  },
  {
   "cell_type": "markdown",
   "metadata": {},
   "source": [
    "### Get data"
   ]
  },
  {
   "cell_type": "code",
   "execution_count": 24,
   "metadata": {
    "collapsed": false,
    "scrolled": false
   },
   "outputs": [
    {
     "ename": "AttributeError",
     "evalue": "'NoneType' object has no attribute 'shape'",
     "output_type": "error",
     "traceback": [
      "\u001b[0;31m---------------------------------------------------------------------------\u001b[0m",
      "\u001b[0;31mAttributeError\u001b[0m                            Traceback (most recent call last)",
      "\u001b[0;32m<ipython-input-24-d1e9de24f6ad>\u001b[0m in \u001b[0;36m<module>\u001b[0;34m()\u001b[0m\n\u001b[1;32m      8\u001b[0m     \u001b[0msuccess\u001b[0m\u001b[0;34m,\u001b[0m\u001b[0mimage\u001b[0m \u001b[0;34m=\u001b[0m \u001b[0mvidcap\u001b[0m\u001b[0;34m.\u001b[0m\u001b[0mread\u001b[0m\u001b[0;34m(\u001b[0m\u001b[0;34m)\u001b[0m\u001b[0;34m\u001b[0m\u001b[0m\n\u001b[1;32m      9\u001b[0m     \u001b[0;31m#rotation\u001b[0m\u001b[0;34m\u001b[0m\u001b[0;34m\u001b[0m\u001b[0m\n\u001b[0;32m---> 10\u001b[0;31m     \u001b[0mnum_rows\u001b[0m\u001b[0;34m,\u001b[0m \u001b[0mnum_cols\u001b[0m \u001b[0;34m=\u001b[0m \u001b[0mimage\u001b[0m\u001b[0;34m.\u001b[0m\u001b[0mshape\u001b[0m\u001b[0;34m[\u001b[0m\u001b[0;34m:\u001b[0m\u001b[0;36m2\u001b[0m\u001b[0;34m]\u001b[0m\u001b[0;34m\u001b[0m\u001b[0m\n\u001b[0m\u001b[1;32m     11\u001b[0m     \u001b[0mrotation_matrix\u001b[0m \u001b[0;34m=\u001b[0m \u001b[0mcv2\u001b[0m\u001b[0;34m.\u001b[0m\u001b[0mgetRotationMatrix2D\u001b[0m\u001b[0;34m(\u001b[0m\u001b[0;34m(\u001b[0m\u001b[0mnum_cols\u001b[0m\u001b[0;34m/\u001b[0m\u001b[0;36m2\u001b[0m\u001b[0;34m,\u001b[0m \u001b[0mnum_rows\u001b[0m\u001b[0;34m/\u001b[0m\u001b[0;36m2\u001b[0m\u001b[0;34m)\u001b[0m\u001b[0;34m,\u001b[0m \u001b[0;34m-\u001b[0m\u001b[0;36m90\u001b[0m\u001b[0;34m,\u001b[0m \u001b[0;36m1\u001b[0m\u001b[0;34m)\u001b[0m\u001b[0;34m\u001b[0m\u001b[0m\n\u001b[1;32m     12\u001b[0m     \u001b[0mimg_rotation\u001b[0m \u001b[0;34m=\u001b[0m \u001b[0mcv2\u001b[0m\u001b[0;34m.\u001b[0m\u001b[0mwarpAffine\u001b[0m\u001b[0;34m(\u001b[0m\u001b[0mimage\u001b[0m\u001b[0;34m,\u001b[0m \u001b[0mrotation_matrix\u001b[0m\u001b[0;34m,\u001b[0m \u001b[0;34m(\u001b[0m\u001b[0mnum_cols\u001b[0m\u001b[0;34m,\u001b[0m \u001b[0mnum_rows\u001b[0m\u001b[0;34m)\u001b[0m\u001b[0;34m)\u001b[0m\u001b[0;34m\u001b[0m\u001b[0m\n",
      "\u001b[0;31mAttributeError\u001b[0m: 'NoneType' object has no attribute 'shape'"
     ]
    }
   ],
   "source": [
    "# convert video to imgs\n",
    "vidcap = cv2.VideoCapture('/Users/xueguoliang/Desktop/data/VideoRecording-2017-06-20-21-53-44.mp4')\n",
    "vidcap.set(cv2.CAP_PROP_POS_MSEC,5000)\n",
    "success,image = vidcap.read()\n",
    "count = 0\n",
    "success = True\n",
    "while success:\n",
    "    success,image = vidcap.read()\n",
    "    #rotation\n",
    "    num_rows, num_cols = image.shape[:2]\n",
    "    rotation_matrix = cv2.getRotationMatrix2D((num_cols/2, num_rows/2), -90, 1)\n",
    "    img_rotation = cv2.warpAffine(image, rotation_matrix, (num_cols, num_rows))\n",
    "    #crop the image to get the facial region\n",
    "    img = img_rotation[50:400,150:350]\n",
    "    cv2.imwrite(\"converted/frame{}.jpg\".format(count), img)     # save frame as JPEG file\n",
    "    count += 1"
   ]
  },
  {
   "cell_type": "code",
   "execution_count": 43,
   "metadata": {
    "collapsed": false
   },
   "outputs": [
    {
     "name": "stdout",
     "output_type": "stream",
     "text": [
      "[[[[ 247.  227.  205.]\n",
      "   [ 244.  226.  204.]\n",
      "   [ 243.  225.  205.]\n",
      "   ..., \n",
      "   [ 211.  188.  172.]\n",
      "   [ 216.  192.  165.]\n",
      "   [ 214.  189.  168.]]\n",
      "\n",
      "  [[ 249.  231.  209.]\n",
      "   [ 246.  229.  209.]\n",
      "   [ 245.  228.  208.]\n",
      "   ..., \n",
      "   [ 212.  187.  165.]\n",
      "   [ 212.  187.  165.]\n",
      "   [ 213.  189.  164.]]\n",
      "\n",
      "  [[ 250.  233.  216.]\n",
      "   [ 249.  232.  213.]\n",
      "   [ 248.  231.  213.]\n",
      "   ..., \n",
      "   [ 213.  188.  166.]\n",
      "   [ 214.  188.  164.]\n",
      "   [ 213.  189.  163.]]\n",
      "\n",
      "  ..., \n",
      "  [[  23.   18.   24.]\n",
      "   [  26.   21.   27.]\n",
      "   [  21.   16.   22.]\n",
      "   ..., \n",
      "   [  14.   10.   16.]\n",
      "   [  14.    9.   14.]\n",
      "   [  14.    9.   13.]]\n",
      "\n",
      "  [[  18.   13.   19.]\n",
      "   [  20.   15.   22.]\n",
      "   [  17.   12.   19.]\n",
      "   ..., \n",
      "   [  15.   10.   16.]\n",
      "   [  14.    9.   15.]\n",
      "   [  13.    8.   12.]]\n",
      "\n",
      "  [[  18.   13.   19.]\n",
      "   [  19.   12.   19.]\n",
      "   [  18.   11.   18.]\n",
      "   ..., \n",
      "   [  14.    9.   15.]\n",
      "   [  10.    8.   11.]\n",
      "   [  12.    7.   11.]]]\n",
      "\n",
      "\n",
      " [[[ 247.  227.  205.]\n",
      "   [ 244.  226.  204.]\n",
      "   [ 243.  225.  205.]\n",
      "   ..., \n",
      "   [ 213.  189.  166.]\n",
      "   [ 217.  190.  170.]\n",
      "   [ 213.  187.  170.]]\n",
      "\n",
      "  [[ 249.  231.  209.]\n",
      "   [ 246.  229.  209.]\n",
      "   [ 245.  228.  208.]\n",
      "   ..., \n",
      "   [ 212.  188.  164.]\n",
      "   [ 214.  186.  162.]\n",
      "   [ 212.  186.  160.]]\n",
      "\n",
      "  [[ 250.  233.  216.]\n",
      "   [ 249.  232.  213.]\n",
      "   [ 247.  230.  213.]\n",
      "   ..., \n",
      "   [ 213.  188.  159.]\n",
      "   [ 214.  187.  164.]\n",
      "   [ 214.  188.  163.]]\n",
      "\n",
      "  ..., \n",
      "  [[  24.   19.   24.]\n",
      "   [  22.   17.   23.]\n",
      "   [  17.   12.   15.]\n",
      "   ..., \n",
      "   [  15.   10.   16.]\n",
      "   [  14.   10.   12.]\n",
      "   [  14.    9.   13.]]\n",
      "\n",
      "  [[  21.   16.   23.]\n",
      "   [  17.   12.   19.]\n",
      "   [  17.   13.   14.]\n",
      "   ..., \n",
      "   [  15.   10.   16.]\n",
      "   [  14.    9.   15.]\n",
      "   [  13.    8.   12.]]\n",
      "\n",
      "  [[  18.   13.   20.]\n",
      "   [  18.   11.   18.]\n",
      "   [  18.   12.   16.]\n",
      "   ..., \n",
      "   [  11.    9.   11.]\n",
      "   [  10.    8.   11.]\n",
      "   [  12.    7.   11.]]]\n",
      "\n",
      "\n",
      " [[[ 254.  248.  231.]\n",
      "   [ 255.  245.  225.]\n",
      "   [ 254.  241.  224.]\n",
      "   ..., \n",
      "   [ 212.  190.  166.]\n",
      "   [ 212.  187.  165.]\n",
      "   [ 212.  187.  165.]]\n",
      "\n",
      "  [[ 254.  252.  236.]\n",
      "   [ 255.  250.  230.]\n",
      "   [ 255.  247.  228.]\n",
      "   ..., \n",
      "   [ 210.  188.  164.]\n",
      "   [ 212.  186.  161.]\n",
      "   [ 211.  186.  157.]]\n",
      "\n",
      "  [[ 254.  253.  243.]\n",
      "   [ 255.  253.  238.]\n",
      "   [ 255.  250.  233.]\n",
      "   ..., \n",
      "   [ 212.  188.  163.]\n",
      "   [ 212.  187.  168.]\n",
      "   [ 212.  186.  163.]]\n",
      "\n",
      "  ..., \n",
      "  [[  21.   14.   25.]\n",
      "   [  19.   12.   23.]\n",
      "   [  19.   12.   19.]\n",
      "   ..., \n",
      "   [  13.   11.   14.]\n",
      "   [  15.   10.   14.]\n",
      "   [  14.    8.   18.]]\n",
      "\n",
      "  [[  20.   13.   20.]\n",
      "   [  18.   12.   16.]\n",
      "   [  20.   14.   18.]\n",
      "   ..., \n",
      "   [  15.    8.   14.]\n",
      "   [  14.    9.   13.]\n",
      "   [  13.    8.   14.]]\n",
      "\n",
      "  [[  17.   11.   20.]\n",
      "   [  18.   13.   21.]\n",
      "   [  18.   13.   17.]\n",
      "   ..., \n",
      "   [  13.    8.   12.]\n",
      "   [  15.   10.   14.]\n",
      "   [  14.    9.   12.]]]\n",
      "\n",
      "\n",
      " ..., \n",
      " [[[ 191.  166.  147.]\n",
      "   [ 190.  164.  150.]\n",
      "   [ 188.  161.  151.]\n",
      "   ..., \n",
      "   [ 176.  149.  130.]\n",
      "   [ 177.  151.  127.]\n",
      "   [ 177.  151.  127.]]\n",
      "\n",
      "  [[ 194.  168.  151.]\n",
      "   [ 192.  165.  153.]\n",
      "   [ 191.  166.  145.]\n",
      "   ..., \n",
      "   [ 177.  152.  130.]\n",
      "   [ 178.  151.  135.]\n",
      "   [ 179.  152.  134.]]\n",
      "\n",
      "  [[ 198.  171.  150.]\n",
      "   [ 196.  170.  153.]\n",
      "   [ 195.  170.  148.]\n",
      "   ..., \n",
      "   [ 181.  153.  138.]\n",
      "   [ 179.  152.  136.]\n",
      "   [ 179.  154.  131.]]\n",
      "\n",
      "  ..., \n",
      "  [[ 198.  178.  160.]\n",
      "   [ 197.  174.  157.]\n",
      "   [ 199.  174.  152.]\n",
      "   ..., \n",
      "   [ 177.  149.  137.]\n",
      "   [ 180.  148.  127.]\n",
      "   [ 181.  150.  123.]]\n",
      "\n",
      "  [[ 200.  176.  152.]\n",
      "   [ 197.  175.  151.]\n",
      "   [ 197.  176.  149.]\n",
      "   ..., \n",
      "   [ 178.  150.  117.]\n",
      "   [ 176.  151.  121.]\n",
      "   [ 178.  150.  120.]]\n",
      "\n",
      "  [[ 202.  180.  156.]\n",
      "   [ 201.  180.  152.]\n",
      "   [ 198.  176.  153.]\n",
      "   ..., \n",
      "   [ 186.  152.  121.]\n",
      "   [ 183.  151.  122.]\n",
      "   [ 181.  151.  126.]]]\n",
      "\n",
      "\n",
      " [[[ 190.  167.  144.]\n",
      "   [ 189.  165.  144.]\n",
      "   [ 190.  161.  145.]\n",
      "   ..., \n",
      "   [ 177.  148.  131.]\n",
      "   [ 177.  150.  132.]\n",
      "   [ 177.  150.  131.]]\n",
      "\n",
      "  [[ 192.  170.  149.]\n",
      "   [ 191.  167.  154.]\n",
      "   [ 191.  162.  146.]\n",
      "   ..., \n",
      "   [ 176.  155.  128.]\n",
      "   [ 178.  151.  132.]\n",
      "   [ 179.  152.  133.]]\n",
      "\n",
      "  [[ 197.  170.  151.]\n",
      "   [ 196.  170.  152.]\n",
      "   [ 195.  170.  146.]\n",
      "   ..., \n",
      "   [ 180.  152.  138.]\n",
      "   [ 180.  153.  135.]\n",
      "   [ 179.  155.  130.]]\n",
      "\n",
      "  ..., \n",
      "  [[ 199.  177.  158.]\n",
      "   [ 197.  174.  157.]\n",
      "   [ 199.  175.  155.]\n",
      "   ..., \n",
      "   [ 175.  149.  124.]\n",
      "   [ 178.  149.  126.]\n",
      "   [ 181.  151.  122.]]\n",
      "\n",
      "  [[ 198.  176.  152.]\n",
      "   [ 197.  175.  151.]\n",
      "   [ 199.  175.  147.]\n",
      "   ..., \n",
      "   [ 176.  149.  122.]\n",
      "   [ 177.  150.  120.]\n",
      "   [ 180.  150.  120.]]\n",
      "\n",
      "  [[ 202.  182.  157.]\n",
      "   [ 201.  180.  152.]\n",
      "   [ 201.  176.  154.]\n",
      "   ..., \n",
      "   [ 185.  152.  114.]\n",
      "   [ 183.  150.  124.]\n",
      "   [ 183.  150.  128.]]]\n",
      "\n",
      "\n",
      " [[[ 189.  167.  144.]\n",
      "   [ 188.  166.  142.]\n",
      "   [ 190.  162.  141.]\n",
      "   ..., \n",
      "   [ 176.  149.  129.]\n",
      "   [ 177.  150.  129.]\n",
      "   [ 177.  150.  130.]]\n",
      "\n",
      "  [[ 194.  168.  150.]\n",
      "   [ 192.  167.  149.]\n",
      "   [ 192.  163.  149.]\n",
      "   ..., \n",
      "   [ 177.  153.  127.]\n",
      "   [ 178.  151.  134.]\n",
      "   [ 179.  152.  132.]]\n",
      "\n",
      "  [[ 197.  171.  153.]\n",
      "   [ 196.  170.  154.]\n",
      "   [ 195.  168.  155.]\n",
      "   ..., \n",
      "   [ 181.  154.  131.]\n",
      "   [ 179.  152.  132.]\n",
      "   [ 180.  155.  128.]]\n",
      "\n",
      "  ..., \n",
      "  [[ 201.  176.  156.]\n",
      "   [ 198.  176.  153.]\n",
      "   [ 197.  175.  156.]\n",
      "   ..., \n",
      "   [ 175.  149.  123.]\n",
      "   [ 175.  150.  127.]\n",
      "   [ 177.  152.  124.]]\n",
      "\n",
      "  [[ 200.  175.  153.]\n",
      "   [ 198.  176.  151.]\n",
      "   [ 198.  177.  146.]\n",
      "   ..., \n",
      "   [ 178.  151.  122.]\n",
      "   [ 177.  150.  121.]\n",
      "   [ 179.  151.  124.]]\n",
      "\n",
      "  [[ 203.  181.  158.]\n",
      "   [ 201.  180.  152.]\n",
      "   [ 199.  178.  151.]\n",
      "   ..., \n",
      "   [ 185.  152.  117.]\n",
      "   [ 184.  152.  121.]\n",
      "   [ 182.  150.  123.]]]]\n"
     ]
    }
   ],
   "source": [
    "# convert imgs to array\n",
    "dirname = \"/Users/xueguoliang/myGithub/affective computing/converted\"\n",
    "\n",
    "# Load every image file in the provided directory\n",
    "filenames = [os.path.join(dirname, fname)\n",
    "             for fname in os.listdir(dirname) if fname.split(\".\")[1] == 'jpg']\n",
    "\n",
    "# Make sure we have exactly 100 image files!\n",
    "filenames_100 = filenames[:100]\n",
    "assert(len(filenames_100) == 100)\n",
    "# Read every filename as an RGB image\n",
    "imgs = [plt.imread(fname,)[..., :3] for fname in filenames_100]\n",
    "# Then resize the square image to 48 x 48 pixels\n",
    "imgs = [cv2.resize(img_i, (48, 48)) for img_i in imgs]\n",
    "# Finally make our list of 3-D images a 4-D array with the first dimension the number of images:\n",
    "imgs = np.array(imgs).astype(np.float32)\n",
    "print (imgs)"
   ]
  },
  {
   "cell_type": "markdown",
   "metadata": {},
   "source": [
    "### Model building"
   ]
  },
  {
   "cell_type": "code",
   "execution_count": 2,
   "metadata": {
    "collapsed": false
   },
   "outputs": [],
   "source": [
    "def getData(balance_ones=True):\n",
    "    # images are 48x48 = 2304 size vectors\n",
    "    # N = 35887\n",
    "    Y_train = []\n",
    "    X_train = []\n",
    "    \n",
    "    Y_test = []\n",
    "    X_test = []\n",
    "    \n",
    "    first = True\n",
    "   \n",
    "    #init length of one-hot vector\n",
    "    n_labels = 7\n",
    "    \n",
    "    for line in open('fer2013/fer2013.csv'):\n",
    "        if first:\n",
    "            first = False\n",
    "        else:\n",
    "            row = line.split(',')\n",
    "            if row[2].strip()==\"Training\":\n",
    "                Y_train.append(int(row[0]))\n",
    "                X_train.append([int(p) for p in row[1].split()])\n",
    "            elif row[2].strip()==\"PublicTest\":\n",
    "                Y_test.append(int(row[0]))\n",
    "                X_test.append([int(p) for p in row[1].split()])\n",
    "                            \n",
    "    X_train, Y_train = np.array(X_train) / 255.0, np.array(Y_train)\n",
    "    X_test, Y_test = np.array(X_test) / 255.0, np.array(Y_test)\n",
    "        \n",
    "    return X_train, Y_train, X_test, Y_test"
   ]
  },
  {
   "cell_type": "code",
   "execution_count": 3,
   "metadata": {
    "collapsed": false
   },
   "outputs": [],
   "source": [
    "X_train, Y_train, X_test, Y_test = getData()"
   ]
  },
  {
   "cell_type": "code",
   "execution_count": 10,
   "metadata": {
    "collapsed": false
   },
   "outputs": [
    {
     "ename": "TypeError",
     "evalue": "Required argument 'mat' (pos 2) not found",
     "output_type": "error",
     "traceback": [
      "\u001b[0;31m---------------------------------------------------------------------------\u001b[0m",
      "\u001b[0;31mTypeError\u001b[0m                                 Traceback (most recent call last)",
      "\u001b[0;32m<ipython-input-10-7548435121b4>\u001b[0m in \u001b[0;36m<module>\u001b[0;34m()\u001b[0m\n\u001b[0;32m----> 1\u001b[0;31m \u001b[0mcv2\u001b[0m\u001b[0;34m.\u001b[0m\u001b[0mimshow\u001b[0m\u001b[0;34m(\u001b[0m\u001b[0;34m(\u001b[0m\u001b[0mX_train\u001b[0m\u001b[0;34m[\u001b[0m\u001b[0;36m0\u001b[0m\u001b[0;34m]\u001b[0m\u001b[0;34m*\u001b[0m\u001b[0;36m255\u001b[0m\u001b[0;34m)\u001b[0m\u001b[0;34m.\u001b[0m\u001b[0mreshape\u001b[0m\u001b[0;34m(\u001b[0m\u001b[0;36m48\u001b[0m\u001b[0;34m,\u001b[0m\u001b[0;36m48\u001b[0m\u001b[0;34m)\u001b[0m\u001b[0;34m,\u001b[0m \u001b[0mcmap\u001b[0m\u001b[0;34m=\u001b[0m\u001b[0;34m'hot'\u001b[0m\u001b[0;34m)\u001b[0m\u001b[0;34m\u001b[0m\u001b[0m\n\u001b[0m",
      "\u001b[0;31mTypeError\u001b[0m: Required argument 'mat' (pos 2) not found"
     ]
    }
   ],
   "source": [
    "cv2.imshow((X_train[0]*255).reshape(48,48), cmap='hot')"
   ]
  },
  {
   "cell_type": "code",
   "execution_count": 4,
   "metadata": {
    "collapsed": false
   },
   "outputs": [
    {
     "name": "stdout",
     "output_type": "stream",
     "text": [
      "28709 3589\n"
     ]
    }
   ],
   "source": [
    "N = len(X_train)\n",
    "N_test = len(X_test)\n",
    "print (N, N_test)"
   ]
  },
  {
   "cell_type": "markdown",
   "metadata": {},
   "source": [
    "#### Input Parameters"
   ]
  },
  {
   "cell_type": "code",
   "execution_count": 5,
   "metadata": {
    "collapsed": true
   },
   "outputs": [],
   "source": [
    "# Facial images are 48 pixels in each dimension.\n",
    "img_size = 48\n",
    "\n",
    "# Images are stored in one-dimensional arrays of this length.\n",
    "img_size_flat = img_size * img_size\n",
    "\n",
    "# Tuple with height and width of images used to reshape arrays.\n",
    "img_shape = (img_size, img_size)\n",
    "\n",
    "# Number of colour channels for the images: 1 channel for gray-scale.\n",
    "num_channels = 1\n",
    "\n",
    "# Number of classes\n",
    "num_classes = 7  # 0=Angry, 1=Disgust, 2=Fear, 3=Happy, 4=Sad, 5=Surprise, 6=Neutral"
   ]
  },
  {
   "cell_type": "markdown",
   "metadata": {},
   "source": [
    "#### configuration of neural network"
   ]
  },
  {
   "cell_type": "code",
   "execution_count": 6,
   "metadata": {
    "collapsed": true
   },
   "outputs": [],
   "source": [
    "# Convolutional Layer 1.\n",
    "filter_size1 = 5          # Convolution filters are 5 x 5 pixels.\n",
    "num_filters1 = 16         # There are 16 of these filters.\n",
    "\n",
    "# Convolutional Layer 2.\n",
    "filter_size2 = 5          # Convolution filters are 5 x 5 pixels.\n",
    "num_filters2 = 36         # There are 36 of these filters.\n",
    "\n",
    "# Fully-connected layer.\n",
    "fc_size = 128             # Number of neurons in fully-connected layer."
   ]
  },
  {
   "cell_type": "markdown",
   "metadata": {},
   "source": [
    "#### Plot image"
   ]
  },
  {
   "cell_type": "code",
   "execution_count": 7,
   "metadata": {
    "collapsed": false
   },
   "outputs": [],
   "source": [
    "def plot_images(images, cls_true, cls_pred=None):\n",
    "    \n",
    "    liter = [\"Angry\", \"Disgust\", \"Fear\", \"Happy\", \"Sad\", \"Surprise\", \"Neutral\"]\n",
    "    \n",
    "    # Create figure with 3x3 sub-plots.\n",
    "    fig, axes = plt.subplots(3, 3)\n",
    "    fig.subplots_adjust(hspace=0.3, wspace=0.3)\n",
    "\n",
    "    for i, ax in enumerate(axes.flat):\n",
    "        # Plot image.\n",
    "        ax.imshow(images[i].reshape(img_shape) , cmap='hot')\n",
    "\n",
    "        # Show true and predicted classes.\n",
    "        if cls_pred is None: \n",
    "            xlabel = \"True: {0}\".format(liter[cls_true[i]])\n",
    "        else:\n",
    "            xlabel = \"True: {0}, Pred: {1}\".format(cls_true[i], cls_pred[i])\n",
    "\n",
    "        # Show the classes as the label on the x-axis.\n",
    "        ax.set_xlabel(xlabel)\n",
    "        \n",
    "        # Remove ticks from the plot.\n",
    "        ax.set_xticks([])\n",
    "        ax.set_yticks([])\n",
    "    \n",
    "    # Ensure the plot is shown correctly with multiple plots\n",
    "    # in a single Notebook cell.\n",
    "    plt.show()"
   ]
  },
  {
   "cell_type": "code",
   "execution_count": 13,
   "metadata": {
    "collapsed": false
   },
   "outputs": [
    {
     "data": {
      "image/png": "[encoded data removed]",
      "text/plain": [
       "<matplotlib.figure.Figure at 0x13b23cba8>"
      ]
     },
     "metadata": {},
     "output_type": "display_data"
    }
   ],
   "source": [
    "# Get the first images from the test-set.\n",
    "faces = X[0:9]\n",
    "\n",
    "# Get the true classes for those images.\n",
    "cls_true = Y[0:9]\n",
    "\n",
    "# Plot the images and labels using our helper-function above.\n",
    "plot_images(images=faces, cls_true=cls_true)"
   ]
  },
  {
   "cell_type": "markdown",
   "metadata": {},
   "source": [
    "#### Build of CNN"
   ]
  },
  {
   "cell_type": "code",
   "execution_count": 8,
   "metadata": {
    "collapsed": true
   },
   "outputs": [],
   "source": [
    "def new_weights(shape):\n",
    "    return tf.Variable(tf.truncated_normal(shape, stddev=0.05))\n",
    "\n",
    "def new_biases(length):\n",
    "    return tf.Variable(tf.constant(0.05, shape=[length]))"
   ]
  },
  {
   "cell_type": "code",
   "execution_count": 9,
   "metadata": {
    "collapsed": true
   },
   "outputs": [],
   "source": [
    "def new_conv_layer(input,              # The previous layer.\n",
    "                   num_input_channels, # Num. channels in prev. layer.\n",
    "                   filter_size,        # Width and height of each filter.\n",
    "                   num_filters,        # Number of filters.\n",
    "                   use_pooling=True):  # Use 2x2 max-pooling.\n",
    "\n",
    "    # Shape of the filter-weights for the convolution.\n",
    "    # This format is determined by the TensorFlow API.\n",
    "    shape = [filter_size, filter_size, num_input_channels, num_filters]\n",
    "\n",
    "    # Create new weights aka. filters with the given shape.\n",
    "    weights = new_weights(shape=shape)\n",
    "\n",
    "    # Create new biases, one for each filter.\n",
    "    biases = new_biases(length=num_filters)\n",
    "\n",
    "    # Create the TensorFlow operation for convolution.\n",
    "    # Note the strides are set to 1 in all dimensions.\n",
    "    # The first and last stride must always be 1,\n",
    "    # because the first is for the image-number and\n",
    "    # the last is for the input-channel.\n",
    "    # But e.g. strides=[1, 2, 2, 1] would mean that the filter\n",
    "    # is moved 2 pixels across the x- and y-axis of the image.\n",
    "    # The padding is set to 'SAME' which means the input image\n",
    "    # is padded with zeroes so the size of the output is the same.\n",
    "    layer = tf.nn.conv2d(input=input,\n",
    "                         filter=weights,\n",
    "                         strides=[1, 1, 1, 1],\n",
    "                         padding='SAME')\n",
    "\n",
    "    # Add the biases to the results of the convolution.\n",
    "    # A bias-value is added to each filter-channel.\n",
    "    layer += biases\n",
    "\n",
    "    # Use pooling to down-sample the image resolution?\n",
    "    if use_pooling:\n",
    "        # This is 2x2 max-pooling, which means that we\n",
    "        # consider 2x2 windows and select the largest value\n",
    "        # in each window. Then we move 2 pixels to the next window.\n",
    "        layer = tf.nn.max_pool(value=layer,\n",
    "                               ksize=[1, 2, 2, 1],\n",
    "                               strides=[1, 2, 2, 1],\n",
    "                               padding='SAME')\n",
    "\n",
    "    # Rectified Linear Unit (ReLU).\n",
    "    # It calculates max(x, 0) for each input pixel x.\n",
    "    # This adds some non-linearity to the formula and allows us\n",
    "    # to learn more complicated functions.\n",
    "    layer = tf.nn.relu(layer)\n",
    "\n",
    "    # Note that ReLU is normally executed before the pooling,\n",
    "    # but since relu(max_pool(x)) == max_pool(relu(x)) we can\n",
    "    # save 75% of the relu-operations by max-pooling first.\n",
    "\n",
    "    # We return both the resulting layer and the filter-weights\n",
    "    # because we will plot the weights later.\n",
    "    return layer, weights"
   ]
  },
  {
   "cell_type": "code",
   "execution_count": 10,
   "metadata": {
    "collapsed": true
   },
   "outputs": [],
   "source": [
    "def flatten_layer(layer):\n",
    "    # Get the shape of the input layer.\n",
    "    layer_shape = layer.get_shape()\n",
    "\n",
    "    # The shape of the input layer is assumed to be:\n",
    "    # layer_shape == [num_images, img_height, img_width, num_channels]\n",
    "\n",
    "    # The number of features is: img_height * img_width * num_channels\n",
    "    # We can use a function from TensorFlow to calculate this.\n",
    "    num_features = layer_shape[1:4].num_elements()\n",
    "    \n",
    "    # Reshape the layer to [num_images, num_features].\n",
    "    # Note that we just set the size of the second dimension\n",
    "    # to num_features and the size of the first dimension to -1\n",
    "    # which means the size in that dimension is calculated\n",
    "    # so the total size of the tensor is unchanged from the reshaping.\n",
    "    layer_flat = tf.reshape(layer, [-1, num_features])\n",
    "\n",
    "    # The shape of the flattened layer is now:\n",
    "    # [num_images, img_height * img_width * num_channels]\n",
    "\n",
    "    # Return both the flattened layer and the number of features.\n",
    "    return layer_flat, num_features"
   ]
  },
  {
   "cell_type": "code",
   "execution_count": 11,
   "metadata": {
    "collapsed": true
   },
   "outputs": [],
   "source": [
    "def new_fc_layer(input,          # The previous layer.\n",
    "                 num_inputs,     # Num. inputs from prev. layer.\n",
    "                 num_outputs,    # Num. outputs.\n",
    "                 use_relu=True): # Use Rectified Linear Unit (ReLU)?\n",
    "\n",
    "    # Create new weights and biases.\n",
    "    weights = new_weights(shape=[num_inputs, num_outputs])\n",
    "    biases = new_biases(length=num_outputs)\n",
    "\n",
    "    # Calculate the layer as the matrix multiplication of\n",
    "    # the input and weights, and then add the bias-values.\n",
    "    layer = tf.matmul(input, weights) + biases\n",
    "\n",
    "    # Use ReLU?\n",
    "    if use_relu:\n",
    "        layer = tf.nn.relu(layer)\n",
    "\n",
    "    return layer"
   ]
  },
  {
   "cell_type": "markdown",
   "metadata": {},
   "source": [
    "#### Placeholder"
   ]
  },
  {
   "cell_type": "code",
   "execution_count": 12,
   "metadata": {
    "collapsed": false
   },
   "outputs": [],
   "source": [
    "x = tf.placeholder(tf.float32, shape=[None, img_size_flat], name='x')\n",
    "x_image = tf.reshape(x, [-1, img_size, img_size, num_channels])\n",
    "y_true = tf.placeholder(tf.float32, shape=[None, 7], name='y_true')\n",
    "y_true_cls = tf.argmax(y_true, dimension=1)"
   ]
  },
  {
   "cell_type": "markdown",
   "metadata": {},
   "source": [
    "#### Convolutional Layers"
   ]
  },
  {
   "cell_type": "code",
   "execution_count": 13,
   "metadata": {
    "collapsed": false
   },
   "outputs": [
    {
     "data": {
      "text/plain": [
       "<tf.Tensor 'Relu:0' shape=(?, 24, 24, 16) dtype=float32>"
      ]
     },
     "execution_count": 13,
     "metadata": {},
     "output_type": "execute_result"
    }
   ],
   "source": [
    "layer_conv1, weights_conv1 = new_conv_layer(input=x_image,\n",
    "                                            num_input_channels=num_channels,\n",
    "                                            filter_size=filter_size1,\n",
    "                                            num_filters=num_filters1,\n",
    "                                            use_pooling=True)\n",
    "  \n",
    "layer_conv1"
   ]
  },
  {
   "cell_type": "code",
   "execution_count": 14,
   "metadata": {
    "collapsed": false
   },
   "outputs": [
    {
     "data": {
      "text/plain": [
       "<tf.Tensor 'Relu_1:0' shape=(?, 12, 12, 36) dtype=float32>"
      ]
     },
     "execution_count": 14,
     "metadata": {},
     "output_type": "execute_result"
    }
   ],
   "source": [
    "layer_conv2, weights_conv2 = new_conv_layer(input=layer_conv1,\n",
    "                                            num_input_channels=num_filters1,\n",
    "                                            filter_size=filter_size2,\n",
    "                                            num_filters=num_filters2,\n",
    "                                            use_pooling=True)\n",
    "layer_conv2"
   ]
  },
  {
   "cell_type": "markdown",
   "metadata": {},
   "source": [
    "#### Flatten Layer"
   ]
  },
  {
   "cell_type": "code",
   "execution_count": 15,
   "metadata": {
    "collapsed": false
   },
   "outputs": [
    {
     "data": {
      "text/plain": [
       "<tf.Tensor 'Reshape_1:0' shape=(?, 5184) dtype=float32>"
      ]
     },
     "execution_count": 15,
     "metadata": {},
     "output_type": "execute_result"
    }
   ],
   "source": [
    "layer_flat, num_features = flatten_layer(layer_conv2)\n",
    "layer_flat"
   ]
  },
  {
   "cell_type": "code",
   "execution_count": 22,
   "metadata": {
    "collapsed": false
   },
   "outputs": [
    {
     "data": {
      "text/plain": [
       "5184"
      ]
     },
     "execution_count": 22,
     "metadata": {},
     "output_type": "execute_result"
    }
   ],
   "source": [
    "num_features"
   ]
  },
  {
   "cell_type": "markdown",
   "metadata": {},
   "source": [
    "#### Fully Connected Layers"
   ]
  },
  {
   "cell_type": "code",
   "execution_count": 16,
   "metadata": {
    "collapsed": false
   },
   "outputs": [
    {
     "data": {
      "text/plain": [
       "<tf.Tensor 'Relu_2:0' shape=(?, 128) dtype=float32>"
      ]
     },
     "execution_count": 16,
     "metadata": {},
     "output_type": "execute_result"
    }
   ],
   "source": [
    "layer_fc1 = new_fc_layer(input=layer_flat,\n",
    "                         num_inputs=num_features,\n",
    "                         num_outputs=fc_size,\n",
    "                         use_relu=True)\n",
    "layer_fc1"
   ]
  },
  {
   "cell_type": "code",
   "execution_count": 17,
   "metadata": {
    "collapsed": false
   },
   "outputs": [
    {
     "data": {
      "text/plain": [
       "<tf.Tensor 'add_3:0' shape=(?, 7) dtype=float32>"
      ]
     },
     "execution_count": 17,
     "metadata": {},
     "output_type": "execute_result"
    }
   ],
   "source": [
    "layer_fc2 = new_fc_layer(input=layer_fc1,\n",
    "                         num_inputs=fc_size,\n",
    "                         num_outputs=num_classes,\n",
    "                         use_relu=False)\n",
    "layer_fc2"
   ]
  },
  {
   "cell_type": "markdown",
   "metadata": {},
   "source": [
    "#### Predicted Class"
   ]
  },
  {
   "cell_type": "code",
   "execution_count": 18,
   "metadata": {
    "collapsed": true
   },
   "outputs": [],
   "source": [
    "y_pred = tf.nn.softmax(layer_fc2)\n",
    "y_pred_cls = tf.argmax(y_pred, dimension=1)"
   ]
  },
  {
   "cell_type": "markdown",
   "metadata": {},
   "source": [
    "#### Cost Function to be Optimezed"
   ]
  },
  {
   "cell_type": "code",
   "execution_count": 19,
   "metadata": {
    "collapsed": false
   },
   "outputs": [],
   "source": [
    "cross_entropy = tf.nn.softmax_cross_entropy_with_logits(logits=layer_fc2,\n",
    "                                                        labels=y_true)\n",
    "cost = tf.reduce_mean(cross_entropy)\n",
    "\n",
    "optimizer = tf.train.AdamOptimizer(learning_rate=1e-4).minimize(cost)\n",
    "\n",
    "correct_prediction = tf.equal(y_pred_cls, y_true_cls)\n",
    "\n",
    "accuracy = tf.reduce_mean(tf.cast(correct_prediction, tf.float32))"
   ]
  },
  {
   "cell_type": "markdown",
   "metadata": {},
   "source": [
    "#### Execution"
   ]
  },
  {
   "cell_type": "code",
   "execution_count": 20,
   "metadata": {
    "collapsed": true
   },
   "outputs": [],
   "source": [
    "session = tf.Session()\n",
    "session.run(tf.global_variables_initializer())"
   ]
  },
  {
   "cell_type": "code",
   "execution_count": 21,
   "metadata": {
    "collapsed": false
   },
   "outputs": [],
   "source": [
    "train_batch_size = 64\n",
    "n_batches = N // train_batch_size\n",
    "\n",
    "# Counter for total number of iterations performed so far.\n",
    "total_iterations = 0\n",
    "\n",
    "def optimize(num_iterations, X, Y):\n",
    "    # Ensure we update the global variable rather than a local copy.\n",
    "    global total_iterations\n",
    "\n",
    "    # Start-time used for printing time-usage below.\n",
    "    start_time = time.time()\n",
    "    \n",
    "    for i in range(total_iterations,\n",
    "                   total_iterations + num_iterations):\n",
    "\n",
    "        # Get a batch of training examples.\n",
    "        # x_batch now holds a batch of images and\n",
    "        # y_true_batch are the true labels for those images.\n",
    "        \n",
    "        X, Y = shuffle(X, Y)\n",
    "        for j in tqdm(range(n_batches)):\n",
    "            x_batch = X[j*train_batch_size:(j*train_batch_size+train_batch_size)]\n",
    "            ys = Y[j*train_batch_size:(j*train_batch_size+train_batch_size)] \n",
    "\n",
    "            #convert to one-hot\n",
    "            y_true_batch = []\n",
    "            for y in ys:\n",
    "                tmp = [0.,0.,0.,0.,0.,0.,0.]\n",
    "                tmp[y] = 1\n",
    "                y_true_batch.append(tmp)\n",
    "                \n",
    "            y_true_batch = np.array(y_true_batch)\n",
    "            #print (y_true_batch)\n",
    "            # Put the batch into a dict with the proper names\n",
    "            # for placeholder variables in the TensorFlow graph.\n",
    "            feed_dict_train = {x: x_batch,\n",
    "                               y_true: y_true_batch}\n",
    "\n",
    "            # Run the optimizer using this batch of training data.\n",
    "            # TensorFlow assigns the variables in feed_dict_train\n",
    "            # to the placeholder variables and then runs the optimizer.\n",
    "            session.run(optimizer, feed_dict=feed_dict_train)\n",
    "\n",
    "            # Print status every 100 iterations.\n",
    "        if i % 100 == 0:\n",
    "            # Calculate the accuracy on the training-set.\n",
    "            acc = session.run(accuracy, feed_dict=feed_dict_train)\n",
    "\n",
    "            # Message for printing.\n",
    "            msg = \"Optimization Iteration: {0:>6}, Training Accuracy: {1:>6.1%}\"\n",
    "\n",
    "            # Print it.\n",
    "            print(msg.format(i + 1, acc))\n",
    "\n",
    "    # Update the total number of iterations performed.\n",
    "    total_iterations += num_iterations\n",
    "\n",
    "    # Ending time.\n",
    "    end_time = time.time()\n",
    "\n",
    "    # Difference between start and end-times.\n",
    "    time_dif = end_time - start_time\n",
    "\n",
    "    # Print the time-usage.\n",
    "    print(\"Time usage: \" + str(timedelta(seconds=int(round(time_dif)))))"
   ]
  },
  {
   "cell_type": "code",
   "execution_count": 23,
   "metadata": {
    "collapsed": false
   },
   "outputs": [
    {
     "name": "stderr",
     "output_type": "stream",
     "text": [
      "100%|██████████| 448/448 [02:19<00:00,  2.90it/s]     | 1/448 [00:00<05:33,  1.34it/s]\n",
      "100%|██████████| 448/448 [02:18<00:00,  3.53it/s]\n",
      "100%|██████████| 448/448 [02:27<00:00,  3.46it/s]\n",
      "100%|██████████| 448/448 [02:19<00:00,  3.33it/s]\n",
      "100%|██████████| 448/448 [02:23<00:00,  3.22it/s]\n",
      "100%|██████████| 448/448 [02:19<00:00,  2.72it/s]\n",
      "100%|██████████| 448/448 [02:21<00:00,  3.01it/s]\n",
      "100%|██████████| 448/448 [02:11<00:00,  3.60it/s]\n",
      "100%|██████████| 448/448 [02:04<00:00,  3.66it/s]\n",
      "100%|██████████| 448/448 [02:04<00:00,  3.54it/s]\n",
      "100%|██████████| 448/448 [02:04<00:00,  3.65it/s]\n",
      "100%|██████████| 448/448 [02:07<00:00,  3.62it/s]\n",
      "100%|██████████| 448/448 [41:07<00:00,  3.43it/s]    \n",
      "100%|██████████| 448/448 [1:25:24<00:00,  3.18it/s]    \n",
      "100%|██████████| 448/448 [02:13<00:00,  3.35it/s]\n",
      "100%|██████████| 448/448 [02:10<00:00,  3.42it/s]\n",
      "100%|██████████| 448/448 [02:15<00:00,  3.51it/s]\n",
      "100%|██████████| 448/448 [02:11<00:00,  3.38it/s]\n",
      "100%|██████████| 448/448 [02:15<00:00,  3.55it/s]\n",
      "100%|██████████| 448/448 [55:06<00:00,  3.35it/s]    \n",
      "100%|██████████| 448/448 [02:06<00:00,  3.59it/s]\n",
      "100%|██████████| 448/448 [02:04<00:00,  3.63it/s]\n",
      "100%|██████████| 448/448 [02:11<00:00,  2.72it/s]\n",
      "100%|██████████| 448/448 [02:27<00:00,  3.59it/s]\n",
      "100%|██████████| 448/448 [02:15<00:00,  3.11it/s]\n",
      "100%|██████████| 448/448 [02:27<00:00,  3.29it/s]\n",
      "100%|██████████| 448/448 [02:22<00:00,  3.02it/s]\n",
      "100%|██████████| 448/448 [02:30<00:00,  3.35it/s]\n",
      "100%|██████████| 448/448 [02:22<00:00,  3.25it/s]\n",
      "100%|██████████| 448/448 [02:33<00:00,  3.29it/s]\n",
      "100%|██████████| 448/448 [02:13<00:00,  3.48it/s]\n",
      "100%|██████████| 448/448 [02:17<00:00,  3.23it/s]\n",
      "100%|██████████| 448/448 [02:19<00:00,  3.26it/s]\n",
      "100%|██████████| 448/448 [02:19<00:00,  3.31it/s]\n",
      "100%|██████████| 448/448 [02:23<00:00,  3.20it/s]\n",
      "100%|██████████| 448/448 [02:18<00:00,  3.22it/s]\n",
      "100%|██████████| 448/448 [02:18<00:00,  3.34it/s]\n",
      "100%|██████████| 448/448 [02:18<00:00,  2.89it/s]\n",
      "100%|██████████| 448/448 [02:26<00:00,  2.41it/s]\n",
      "100%|██████████| 448/448 [02:28<00:00,  3.37it/s]\n",
      "100%|██████████| 448/448 [02:31<00:00,  2.89it/s]\n",
      "100%|██████████| 448/448 [02:28<00:00,  3.52it/s]\n",
      "100%|██████████| 448/448 [02:16<00:00,  3.70it/s]\n",
      "100%|██████████| 448/448 [02:18<00:00,  3.70it/s]\n",
      "100%|██████████| 448/448 [02:01<00:00,  3.68it/s]\n",
      "100%|██████████| 448/448 [02:17<00:00,  2.96it/s]\n",
      "100%|██████████| 448/448 [02:30<00:00,  3.14it/s]\n",
      "100%|██████████| 448/448 [02:33<00:00,  2.48it/s]\n",
      "100%|██████████| 448/448 [02:44<00:00,  1.82it/s]\n",
      "100%|██████████| 448/448 [03:11<00:00,  2.88it/s]\n",
      "100%|██████████| 448/448 [02:39<00:00,  2.97it/s]\n",
      "100%|██████████| 448/448 [02:10<00:00,  3.54it/s]\n",
      "100%|██████████| 448/448 [02:15<00:00,  3.03it/s]\n",
      "100%|██████████| 448/448 [02:35<00:00,  3.06it/s]\n",
      "100%|██████████| 448/448 [02:30<00:00,  3.00it/s]\n",
      "100%|██████████| 448/448 [02:15<00:00,  3.50it/s]\n",
      "100%|██████████| 448/448 [02:15<00:00,  3.49it/s]\n",
      "100%|██████████| 448/448 [02:08<00:00,  3.50it/s]\n",
      "100%|██████████| 448/448 [02:07<00:00,  3.49it/s]\n",
      "100%|██████████| 448/448 [02:08<00:00,  3.53it/s]\n",
      "100%|██████████| 448/448 [02:07<00:00,  3.54it/s]\n",
      "100%|██████████| 448/448 [06:17<00:00,  3.42it/s]  \n",
      "100%|██████████| 448/448 [02:10<00:00,  3.51it/s]\n",
      "100%|██████████| 448/448 [02:09<00:00,  3.12it/s]\n",
      "100%|██████████| 448/448 [02:13<00:00,  3.57it/s]\n",
      "100%|██████████| 448/448 [02:12<00:00,  3.66it/s]\n",
      "100%|██████████| 448/448 [02:07<00:00,  3.60it/s]\n",
      "100%|██████████| 448/448 [02:11<00:00,  3.35it/s]\n",
      "100%|██████████| 448/448 [02:07<00:00,  3.60it/s]\n",
      "100%|██████████| 448/448 [02:06<00:00,  3.58it/s]\n",
      "100%|██████████| 448/448 [02:18<00:00,  3.34it/s]\n",
      "100%|██████████| 448/448 [02:18<00:00,  3.06it/s]\n",
      "100%|██████████| 448/448 [02:18<00:00,  3.55it/s]\n",
      "100%|██████████| 448/448 [02:06<00:00,  3.59it/s]\n",
      "100%|██████████| 448/448 [02:14<00:00,  3.55it/s]\n",
      "100%|██████████| 448/448 [02:11<00:00,  3.51it/s]\n",
      "100%|██████████| 448/448 [02:05<00:00,  3.47it/s]\n",
      "100%|██████████| 448/448 [02:13<00:00,  3.46it/s]\n",
      "100%|██████████| 448/448 [02:08<00:00,  3.47it/s]\n",
      "100%|██████████| 448/448 [02:09<00:00,  3.52it/s]\n",
      "100%|██████████| 448/448 [02:08<00:00,  3.51it/s]\n",
      "100%|██████████| 448/448 [02:09<00:00,  3.47it/s]\n",
      "100%|██████████| 448/448 [02:41<00:00,  3.21it/s]\n",
      "100%|██████████| 448/448 [02:20<00:00,  3.58it/s]\n",
      "100%|██████████| 448/448 [02:16<00:00,  2.78it/s]\n",
      "100%|██████████| 448/448 [02:16<00:00,  3.59it/s]\n",
      "100%|██████████| 448/448 [02:19<00:00,  2.96it/s]\n",
      "100%|██████████| 448/448 [02:09<00:00,  3.62it/s]\n",
      "100%|██████████| 448/448 [02:06<00:00,  3.40it/s]\n",
      "100%|██████████| 448/448 [02:04<00:00,  3.59it/s]\n",
      "100%|██████████| 448/448 [02:09<00:00,  3.69it/s]\n",
      "100%|██████████| 448/448 [02:08<00:00,  3.64it/s]\n",
      "100%|██████████| 448/448 [02:03<00:00,  3.62it/s]\n",
      "100%|██████████| 448/448 [02:03<00:00,  3.65it/s]\n",
      "100%|██████████| 448/448 [02:03<00:00,  3.70it/s]"
     ]
    },
    {
     "name": "stdout",
     "output_type": "stream",
     "text": [
      "Time usage: 6:37:16\n"
     ]
    },
    {
     "name": "stderr",
     "output_type": "stream",
     "text": [
      "\n"
     ]
    }
   ],
   "source": [
    "optimize(95, X_train, Y_train)"
   ]
  },
  {
   "cell_type": "code",
   "execution_count": 31,
   "metadata": {
    "collapsed": false
   },
   "outputs": [],
   "source": [
    "# convert imgs to array\n",
    "dirname = \"/Users/xueguoliang/myGithub/affective computing/converted\"\n",
    "\n",
    "# Load every image file in the provided directory\n",
    "filenames = [os.path.join(dirname, fname)\n",
    "             for fname in os.listdir(dirname) if fname.split(\".\")[1] == 'jpg']\n",
    "\n",
    "# Make sure we have exactly 100 image files!\n",
    "filenames_100 = filenames[:100]\n",
    "assert(len(filenames_100) == 100)\n",
    "# Read every filename as an RGB image\n",
    "imgs = [plt.imread(fname)[..., :3] for fname in filenames_100]\n",
    "# Then resize the square image to 48 x 48 pixels\n",
    "imgs = [cv2.resize(img_i, (48, 48)) for img_i in imgs]\n",
    "# Finally make our list of 3-D images a 4-D array with the first dimension the number of images:\n",
    "imgs = np.array(imgs).astype(np.float32)"
   ]
  },
  {
   "cell_type": "code",
   "execution_count": 34,
   "metadata": {
    "collapsed": false
   },
   "outputs": [
    {
     "name": "stdout",
     "output_type": "stream",
     "text": [
      "[ 247.  227.  205.]\n"
     ]
    }
   ],
   "source": [
    "print (imgs[0][0][0])"
   ]
  },
  {
   "cell_type": "code",
   "execution_count": null,
   "metadata": {
    "collapsed": true
   },
   "outputs": [],
   "source": [
    "feed_dict = {x: [your_image]}\n",
    "classification = tf.run(y_pred_cls, feed_dict)\n",
    "print classification"
   ]
  },
  {
   "cell_type": "code",
   "execution_count": null,
   "metadata": {
    "collapsed": true
   },
   "outputs": [],
   "source": [
    "# Split the test-set into smaller batches of this size.\n",
    "test_batch_size = 256\n",
    "\n",
    "def print_test_accuracy(show_example_errors=False,\n",
    "                        show_confusion_matrix=False):\n",
    "\n",
    "    # Number of images in the test-set.\n",
    "    num_test = len(X_test)\n",
    "\n",
    "    # Allocate an array for the predicted classes which\n",
    "    # will be calculated in batches and filled into this array.\n",
    "    cls_pred = np.zeros(shape=num_test, dtype=np.int)\n",
    "\n",
    "    # Now calculate the predicted classes for the batches.\n",
    "    # We will just iterate through all the batches.\n",
    "    # There might be a more clever and Pythonic way of doing this.\n",
    "\n",
    "    # The starting index for the next batch is denoted i.\n",
    "    i = 0\n",
    "\n",
    "    while i < num_test:\n",
    "        # The ending index for the next batch is denoted j.\n",
    "        j = min(i + test_batch_size, num_test)\n",
    "\n",
    "        # Get the images from the test-set between index i and j.\n",
    "        images = X_test[i:j, :]\n",
    "\n",
    "        # Get the associated labels.\n",
    "        labels = data.test.labels[i:j, :]\n",
    "\n",
    "        # Create a feed-dict with these images and labels.\n",
    "        feed_dict = {x: images,\n",
    "                     y_true: labels}\n",
    "\n",
    "        # Calculate the predicted class using TensorFlow.\n",
    "        cls_pred[i:j] = session.run(y_pred_cls, feed_dict=feed_dict)\n",
    "\n",
    "        # Set the start-index for the next batch to the\n",
    "        # end-index of the current batch.\n",
    "        i = j\n",
    "\n",
    "    # Convenience variable for the true class-numbers of the test-set.\n",
    "    cls_true = data.test.cls\n",
    "\n",
    "    # Create a boolean array whether each image is correctly classified.\n",
    "    correct = (cls_true == cls_pred)\n",
    "\n",
    "    # Calculate the number of correctly classified images.\n",
    "    # When summing a boolean array, False means 0 and True means 1.\n",
    "    correct_sum = correct.sum()\n",
    "\n",
    "    # Classification accuracy is the number of correctly classified\n",
    "    # images divided by the total number of images in the test-set.\n",
    "    acc = float(correct_sum) / num_test\n",
    "\n",
    "    # Print the accuracy.\n",
    "    msg = \"Accuracy on Test-Set: {0:.1%} ({1} / {2})\"\n",
    "    print(msg.format(acc, correct_sum, num_test))"
   ]
  },
  {
   "cell_type": "code",
   "execution_count": 28,
   "metadata": {
    "collapsed": false
   },
   "outputs": [
    {
     "name": "stdout",
     "output_type": "stream",
     "text": [
      "Tensor(\"ArgMax_1:0\", shape=(?,), dtype=int64)\n"
     ]
    }
   ],
   "source": []
  },
  {
   "cell_type": "code",
   "execution_count": 38,
   "metadata": {
    "collapsed": false
   },
   "outputs": [
    {
     "ename": "NameError",
     "evalue": "name 'print_test_accuracy' is not defined",
     "output_type": "error",
     "traceback": [
      "\u001b[0;31m---------------------------------------------------------------------------\u001b[0m",
      "\u001b[0;31mNameError\u001b[0m                                 Traceback (most recent call last)",
      "\u001b[0;32m<ipython-input-38-f148a7c94917>\u001b[0m in \u001b[0;36m<module>\u001b[0;34m()\u001b[0m\n\u001b[0;32m----> 1\u001b[0;31m \u001b[0mprint_test_accuracy\u001b[0m\u001b[0;34m(\u001b[0m\u001b[0;34m)\u001b[0m\u001b[0;34m\u001b[0m\u001b[0m\n\u001b[0m",
      "\u001b[0;31mNameError\u001b[0m: name 'print_test_accuracy' is not defined"
     ]
    }
   ],
   "source": [
    "print_test_accuracy()"
   ]
  }
 ],
 "metadata": {
  "kernelspec": {
   "display_name": "Python 3",
   "language": "python",
   "name": "python3"
  },
  "language_info": {
   "codemirror_mode": {
    "name": "ipython",
    "version": 3
   },
   "file_extension": ".py",
   "mimetype": "text/x-python",
   "name": "python",
   "nbconvert_exporter": "python",
   "pygments_lexer": "ipython3",
   "version": "3.5.2"
  }
 },
 "nbformat": 4,
 "nbformat_minor": 2
}
